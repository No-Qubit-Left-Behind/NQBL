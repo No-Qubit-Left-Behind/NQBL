{
  "nbformat": 4,
  "nbformat_minor": 0,
  "metadata": {
    "colab": {
      "name": "Copy of  TF Propagator",
      "provenance": [],
      "collapsed_sections": [],
      "include_colab_link": true
    },
    "kernelspec": {
      "name": "python3",
      "display_name": "Python 3"
    },
    "accelerator": "GPU"
  },
  "cells": [
    {
      "cell_type": "markdown",
      "metadata": {
        "id": "view-in-github",
        "colab_type": "text"
      },
      "source": [
        "<a href=\"https://colab.research.google.com/github/No-Qubit-Left-Behind/NQLB/blob/master/Tutorial/TF_CRAB_Legendre_Robust.ipynb\" target=\"_parent\"><img src=\"https://colab.research.google.com/assets/colab-badge.svg\" alt=\"Open In Colab\"/></a>"
      ]
    },
    {
      "cell_type": "markdown",
      "metadata": {
        "id": "0P4y5BajoGdE",
        "colab_type": "text"
      },
      "source": [
        "# Propagator"
      ]
    },
    {
      "cell_type": "code",
      "metadata": {
        "id": "-j1ZIrGjl9MR",
        "colab_type": "code",
        "colab": {
          "base_uri": "https://localhost:8080/",
          "height": 34
        },
        "outputId": "2408a43b-d58c-4881-a142-7b42adf82b78"
      },
      "source": [
        "from __future__ import absolute_import, division, print_function, unicode_literals\n",
        "%tensorflow_version 2.x\n",
        "import matplotlib.pyplot as plt\n",
        "import tensorflow as tf\n",
        "import numpy as np\n",
        "import scipy.signal as sp_signal\n",
        "import time\n",
        "print(tf.__version__)"
      ],
      "execution_count": 1,
      "outputs": [
        {
          "output_type": "stream",
          "text": [
            "2.3.0\n"
          ],
          "name": "stdout"
        }
      ]
    },
    {
      "cell_type": "code",
      "metadata": {
        "colab_type": "code",
        "id": "Yhxs-y4HYfC5",
        "colab": {
          "base_uri": "https://localhost:8080/",
          "height": 357
        },
        "outputId": "af4ad37b-5022-4c06-f5f5-355c21361fb9"
      },
      "source": [
        "class PropagatorVL:\n",
        "    def __init__(self, input_dim, no_of_steps, delta_t):\n",
        "        self.delta_t = delta_t\n",
        "        self.duration = no_of_steps * delta_t\n",
        "        \"\"\"\n",
        "            contraction_array determines the neccessity for the extra\n",
        "            matrix multiplication step in the recursive method self.propagate()\n",
        "            when the intermediate computation array has length not divisible\n",
        "            by 2\n",
        "        \"\"\"\n",
        "        self.contraction_array = self.gen_contraction_array(no_of_steps)\n",
        "        self.Legendre_basis_matrix = self.gen_Legendre_matrix(\n",
        "            input_dim, no_of_steps\n",
        "        )\n",
        "\n",
        "        self.x = tf.constant(\n",
        "            [[0, 1], [1, 0]], dtype=tf.complex128\n",
        "        )\n",
        "        self.y = tf.constant(\n",
        "            [[0 + 0j, 0 - 1j], [0 + 1j, 0 + 0j]], dtype=tf.complex128\n",
        "        )\n",
        "        \n",
        "        \"\"\"\n",
        "            Van Loan generators for control robustness\n",
        "        \"\"\"\n",
        "        xL = -2 * np.pi *(0 + 1j) * np.block([\n",
        "            [self.x.numpy(), self.x.numpy()],\n",
        "            [np.zeros((2, 2)), self.x.numpy()]          \n",
        "        ])\n",
        "        yL = -2 * np.pi *(0 + 1j) * np.block([\n",
        "            [self.y.numpy(), self.y.numpy()],\n",
        "            [np.zeros((2, 2)), self.y.numpy()]          \n",
        "        ])\n",
        "\n",
        "        self.generators =  tf.stack([\n",
        "                                     tf.constant(xL, dtype=tf.complex128),\n",
        "                                     tf.constant(yL, dtype=tf.complex128)\n",
        "                                     ])\n",
        "\n",
        "        self.ctrl_amplitudes = tf.Variable(\n",
        "            tf.zeros([input_dim, 2], dtype=tf.float64), dtype=tf.float64\n",
        "        )\n",
        "\n",
        "    @staticmethod\n",
        "    def gen_contraction_array(no_of_intervals):\n",
        "        if no_of_intervals > 1:\n",
        "            return (\n",
        "                [bool(np.mod(no_of_intervals, 2))] +\n",
        "                PropagatorVL.gen_contraction_array(\n",
        "                    np.floor(no_of_intervals / 2)\n",
        "                )\n",
        "            )\n",
        "        return []\n",
        "\n",
        "    @staticmethod\n",
        "    def gen_Legendre_matrix(input_dim, output_dim):\n",
        "        def Legendre_basis_vector(Legendre_coefficients):\n",
        "            return np.polynomial.legendre.Legendre(\n",
        "                tuple(Legendre_coefficients)\n",
        "            ).linspace(output_dim)[1]\n",
        "        Legendre_basis_vectors = tuple(map(\n",
        "            Legendre_basis_vector, np.eye(input_dim)\n",
        "        ))\n",
        "        return tf.constant(\n",
        "            np.column_stack(Legendre_basis_vectors), dtype = tf.float64\n",
        "        )\n",
        "\n",
        "    \"\"\"\n",
        "        regularize_amplitudes ensures that no individual amplitude exceeds 1\n",
        "    \"\"\"\n",
        "    def regularize_amplitudes(self, amplitudes):\n",
        "        amplitude_norms = tf.math.sqrt(\n",
        "            tf.math.square(amplitudes[:, 0]) + tf.math.square(amplitudes[:, 1])\n",
        "        )\n",
        "        normalization_factor = tf.math.tanh(amplitude_norms) / amplitude_norms\n",
        "        return tf.math.multiply(\n",
        "            tf.stack([normalization_factor, normalization_factor], 1),\n",
        "            amplitudes\n",
        "        )\n",
        "\n",
        "    def return_physical_amplitudes(self):\n",
        "        transformed_amplitudes = tf.linalg.matmul(\n",
        "            self.Legendre_basis_matrix, self.ctrl_amplitudes\n",
        "        )\n",
        "        normalized_amplitudes = self.regularize_amplitudes(\n",
        "            transformed_amplitudes\n",
        "        )\n",
        "        return normalized_amplitudes    \n",
        "\n",
        "    \"\"\"\n",
        "        exponentials() computes a vector matrix exponential after multiplying\n",
        "        each self.ctrl_amplitudes row with a the vector of matrices in\n",
        "        self.generators\n",
        "    \"\"\"\n",
        "    def exponentials(self):\n",
        "        physical_amplitudes = self.return_physical_amplitudes()\n",
        "        exponents = tf.linalg.tensordot(\n",
        "            tf.cast(physical_amplitudes, dtype=tf.complex128),\n",
        "            self.delta_t * self.generators, 1\n",
        "        )\n",
        "        return tf.linalg.expm(exponents)\n",
        "    \n",
        "    \"\"\"\n",
        "        propagate  computes the final propagator by recursively multiplying\n",
        "        each odd element in the list of matrices with each even element --\n",
        "        if the length of the array is not divisible by 2 an extra computation\n",
        "        step is added\n",
        "    \"\"\"\n",
        "    def propagate(self):\n",
        "        step_exps = self.exponentials()\n",
        "        for is_odd in self.contraction_array:\n",
        "            if is_odd:\n",
        "                odd_exp = step_exps[-1, :, :]\n",
        "                step_exps = tf.linalg.matmul(\n",
        "                    step_exps[1::2, :, :], step_exps[0:-1:2, :, :]\n",
        "                )\n",
        "                step_exps = tf.concat([\n",
        "                    step_exps[0:-1, :, :],\n",
        "                    [tf.linalg.matmul(odd_exp, step_exps[-1, :, :])]\n",
        "                ], 0)\n",
        "            else:\n",
        "                step_exps = tf.linalg.matmul(\n",
        "                    step_exps[1::2, :, :], step_exps[0::2, :, :]\n",
        "                )\n",
        "        return tf.squeeze(step_exps)\n",
        "\n",
        "    \"\"\"\n",
        "        __call__ computes the final propagator fidelity squared with the\n",
        "        identity operator\n",
        "    \"\"\"\n",
        "    def metrics(self):\n",
        "        propagator = self.propagate()\n",
        "        tr = tf.linalg.trace(tf.linalg.matmul(self.x, propagator[0:2, 0:2]))\n",
        "        \"\"\"\n",
        "            infidelity part in the target\n",
        "        \"\"\"\n",
        "        infidelity = 1 - tf.math.real(tr * tf.math.conj(tr)) / (2 ** 2)\n",
        "        \"\"\"\n",
        "            robustness term in the target\n",
        "        \"\"\"\n",
        "        norm_squared = 1 / ((2 * np.pi * self.duration) ** 2) / 2 * (\n",
        "            tf.math.real(\n",
        "                tf.linalg.trace(\n",
        "                    tf.linalg.matmul(\n",
        "                        propagator[0:2, 2:4],\n",
        "                        propagator[0:2, 2:4],\n",
        "                        adjoint_b=True\n",
        "                    )\n",
        "                )\n",
        "            )\n",
        "        )\n",
        "\n",
        "        return infidelity, norm_squared\n",
        " \n",
        "    @tf.function\n",
        "    def target(self):\n",
        "        infidelity, robust_metric = self.metrics()\n",
        "        return 0.5 * infidelity + 0.5 * robust_metric\n",
        "\n",
        "nt = 1000\n",
        "del_t = 0.001\n",
        "time = np.linspace(0, nt * del_t, nt)\n",
        "\n",
        "basis_dim = 4\n",
        "\n",
        "propagatorVL = PropagatorVL(basis_dim, nt, del_t)\n",
        "\n",
        "optimizer = tf.keras.optimizers.Adam(0.01)\n",
        "\n",
        "propagatorVL.ctrl_amplitudes.assign(\n",
        "    tf.random.uniform([basis_dim, 2], -1, 1, dtype=tf.float64)\n",
        ")\n",
        "\n",
        "def optimization_step():\n",
        "    with tf.GradientTape() as tape:\n",
        "        current_target = propagatorVL.target()\n",
        "    gradients = tape.gradient(current_target, [propagatorVL.ctrl_amplitudes])\n",
        "    optimizer.apply_gradients(zip(gradients, [propagatorVL.ctrl_amplitudes]))\n",
        "    return current_target\n",
        "\n",
        "steps = range(2000)\n",
        "for step in steps:\n",
        "    current_target = optimization_step()\n",
        "    if step % 50 == 0:\n",
        "        print('step %2d: target=%2.5f' %\n",
        "              (step, current_target))\n",
        "    \n",
        "final = propagatorVL.return_physical_amplitudes().numpy()\n"
      ],
      "execution_count": 38,
      "outputs": [
        {
          "output_type": "stream",
          "text": [
            "step  0: target=0.73060\n",
            "step 50: target=0.11503\n",
            "step 100: target=0.06938\n",
            "step 150: target=0.04708\n",
            "step 200: target=0.03683\n",
            "step 250: target=0.03227\n",
            "step 300: target=0.03028\n",
            "step 350: target=0.02937\n",
            "step 400: target=0.02886\n",
            "step 450: target=0.02845\n",
            "step 500: target=0.02797\n",
            "step 550: target=0.02733\n",
            "step 600: target=0.02646\n",
            "step 650: target=0.02523\n",
            "step 700: target=0.02350\n",
            "step 750: target=0.02112\n",
            "step 800: target=0.01801\n",
            "step 850: target=0.01435\n",
            "step 900: target=0.01066\n",
            "step 950: target=0.00757\n"
          ],
          "name": "stdout"
        }
      ]
    },
    {
      "cell_type": "code",
      "metadata": {
        "id": "H2s8rY0gfMp0",
        "colab_type": "code",
        "colab": {
          "base_uri": "https://localhost:8080/",
          "height": 282
        },
        "outputId": "ff17e53d-98de-4ea6-eb66-7cfd6e3f7056"
      },
      "source": [
        "#Get final control amplitudes:\n",
        "amplitudes = propagatorVL.return_physical_amplitudes().numpy()\n",
        "\n",
        "plt.figure()\n",
        "plt.plot(time, amplitudes[:, 0], label = '$\\Omega_x$')\n",
        "plt.plot(time, amplitudes[:, 1], label = '$\\Omega_y$')\n",
        "plt.legend()\n",
        "\n",
        "print('final infidelity = %2.5f' %propagatorVL.metrics()[0])\n"
      ],
      "execution_count": 41,
      "outputs": [
        {
          "output_type": "stream",
          "text": [
            "final infidelity = 0.00062\n"
          ],
          "name": "stdout"
        },
        {
          "output_type": "display_data",
          "data": {
            "image/png": "[encoded data removed]",
            "text/plain": [
              "<Figure size 432x288 with 1 Axes>"
            ]
          },
          "metadata": {
            "tags": [],
            "needs_background": "light"
          }
        }
      ]
    },
    {
      "cell_type": "code",
      "metadata": {
        "id": "U_yEFxRblvEV",
        "colab_type": "code",
        "colab": {}
      },
      "source": [
        ""
      ],
      "execution_count": null,
      "outputs": []
    }
  ]
}