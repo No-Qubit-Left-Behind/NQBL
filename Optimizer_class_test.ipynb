{
  "nbformat": 4,
  "nbformat_minor": 0,
  "metadata": {
    "colab": {
      "name": "Optimizer class test",
      "provenance": [],
      "collapsed_sections": [],
      "include_colab_link": true
    },
    "kernelspec": {
      "name": "python3",
      "display_name": "Python 3"
    },
    "accelerator": "GPU"
  },
  "cells": [
    {
      "cell_type": "markdown",
      "metadata": {
        "id": "view-in-github",
        "colab_type": "text"
      },
      "source": [
        "<a href=\"https://colab.research.google.com/github/No-Qubit-Left-Behind/NQLB/blob/master/Optimizer_class_test.ipynb\" target=\"_parent\"><img src=\"https://colab.research.google.com/assets/colab-badge.svg\" alt=\"Open In Colab\"/></a>"
      ]
    },
    {
      "cell_type": "markdown",
      "metadata": {
        "id": "0P4y5BajoGdE",
        "colab_type": "text"
      },
      "source": [
        "# Adiabatic Control"
      ]
    },
    {
      "cell_type": "code",
      "metadata": {
        "id": "-j1ZIrGjl9MR",
        "colab_type": "code",
        "outputId": "45e0a718-acae-4752-b611-4336a4a6cace",
        "colab": {
          "base_uri": "https://localhost:8080/",
          "height": 34
        }
      },
      "source": [
        "from __future__ import absolute_import, division, print_function, unicode_literals\n",
        "%tensorflow_version 2.x\n",
        "import matplotlib.pyplot as plt\n",
        "import tensorflow as tf\n",
        "import numpy as np\n",
        "import time\n",
        "print(tf.__version__)\n",
        "\n",
        "\n",
        "from IPython.display import clear_output, display"
      ],
      "execution_count": 0,
      "outputs": [
        {
          "output_type": "stream",
          "text": [
            "2.2.0-rc2\n"
          ],
          "name": "stdout"
        }
      ]
    },
    {
      "cell_type": "code",
      "metadata": {
        "colab_type": "code",
        "outputId": "5198d5ed-66ee-4549-8b70-256ed756488c",
        "id": "Yhxs-y4HYfC5",
        "colab": {
          "base_uri": "https://localhost:8080/",
          "height": 51
        }
      },
      "source": [
        "class PropagatorVL:\n",
        "    def __init__(self, input_dim, no_of_steps, delta_t):\n",
        "        self.delta_t = delta_t\n",
        "        self.duration = no_of_steps * delta_t\n",
        "        self.no_of_steps = no_of_steps\n",
        "        self.initial_state = tf.constant([[1], [0]], dtype = tf.complex128)\n",
        "        self.target_state = tf.constant([[0], [1]], dtype = tf.complex128)\n",
        "        self.reg_matrix = tf.constant([[1, 0], [0, 5]], dtype = tf.float64)\n",
        "        \"\"\"\n",
        "            contraction_array determines the neccessity for the extra\n",
        "            matrix multiplication step in the recursive method self.propagate()\n",
        "            when the intermediate computation array has length not divisible\n",
        "            by 2\n",
        "        \"\"\"\n",
        "        self.contraction_array = self.gen_contraction_array(no_of_steps)\n",
        "        \"\"\"\n",
        "            ansatz_basis_matrix performs a transformation to the even/odd\n",
        "            polynomial basis\n",
        "        \"\"\"\n",
        "        self.ansatz_basis_matrix = self.gen_ansatz_matrix(\n",
        "            input_dim, no_of_steps, delta_t\n",
        "        )\n",
        "        self.I = tf.eye(2, dtype = tf.complex128)\n",
        "        self.x = tf.constant(\n",
        "            [[0, 1], [1, 0]], dtype=tf.complex128\n",
        "        )\n",
        "        self.y = tf.constant(\n",
        "            [[0 + 0j, 0 - 1j], [0 + 1j, 0 + 0j]], dtype=tf.complex128\n",
        "        )\n",
        "        self.z = tf.constant(\n",
        "            [[1, 0], [0, -1]], dtype=tf.complex128\n",
        "        )\n",
        "        \n",
        "        \"\"\" Van Loan generators for adiabatic control \"\"\"\n",
        "        # Hamiltonian\n",
        "        x_Ham = -2 * np.pi *(0 + 1j) * 0.5 * np.block([\n",
        "            [self.x.numpy(), np.zeros((2, 2))],\n",
        "            [np.zeros((2, 2)), self.x.numpy()]          \n",
        "        ])\n",
        "        z_Ham = -2 * np.pi *(0 + 1j) * 0.5 * np.block([\n",
        "            [self.z.numpy(), np.zeros((2, 2))],\n",
        "            [np.zeros((2, 2)), self.z.numpy()]          \n",
        "        ])\n",
        "        # Projector\n",
        "        I_proj = 0.5 * np.block(\n",
        "            [[np.zeros((2, 2)), self.I.numpy()],\n",
        "             [np.zeros((2, 2)), np.zeros((2, 2))]]\n",
        "        )\n",
        "        x_proj = 0.5 * np.block(\n",
        "            [[np.zeros((2, 2)), self.x.numpy()],\n",
        "             [np.zeros((2, 2)), np.zeros((2, 2))]]\n",
        "        )\n",
        "        z_proj = 0.5 * np.block(\n",
        "            [[np.zeros((2, 2)), self.z.numpy()],\n",
        "             [np.zeros((2, 2)), np.zeros((2, 2))]]\n",
        "        )\n",
        "\n",
        "        self.generators =  tf.stack([\n",
        "                                     tf.constant(x_Ham, dtype=tf.complex128),\n",
        "                                     tf.constant(z_Ham, dtype=tf.complex128),\n",
        "                                     tf.constant(I_proj, dtype=tf.complex128),\n",
        "                                     tf.constant(x_proj, dtype=tf.complex128),\n",
        "                                     tf.constant(z_proj, dtype=tf.complex128)\n",
        "                                     ])\n",
        "\n",
        "        self.ctrl_amplitudes = tf.Variable(\n",
        "            tf.zeros([input_dim, 2], dtype=tf.float64), dtype=tf.float64\n",
        "        )\n",
        "\n",
        "    @staticmethod\n",
        "    def gen_contraction_array(no_of_intervals):\n",
        "        if no_of_intervals > 1:\n",
        "            return (\n",
        "                [bool(np.mod(no_of_intervals, 2))] +\n",
        "                PropagatorVL.gen_contraction_array(\n",
        "                    np.floor(no_of_intervals / 2)\n",
        "                )\n",
        "            )\n",
        "        return []\n",
        "\n",
        "    @staticmethod\n",
        "    def gen_ansatz_matrix(input_dim, output_dim, time_step):\n",
        "        T = output_dim * time_step\n",
        "        Rabi_basis = tf.constant(\n",
        "            [[1 - (1 - 2 * t / T) ** (2 * n)\n",
        "            for n in range(1, input_dim + 1)]\n",
        "             for t in np.linspace(0., T, output_dim)],\n",
        "             dtype = tf.float64\n",
        "        )\n",
        "        offset_basis = tf.constant(\n",
        "            [[(1 - 2 * t / T) ** (2 * n - 1)\n",
        "            for n in range(1, input_dim + 1)]\n",
        "             for t in np.linspace(0., T, output_dim)]\n",
        "            , dtype = tf.float64)\n",
        "        return [Rabi_basis, offset_basis]\n",
        "\n",
        "    \"\"\"\n",
        "        regularize_amplitudes ensures that no individual amplitude exceeds its\n",
        "        maximum value\n",
        "    \"\"\"\n",
        "    @staticmethod\n",
        "    def regularize_amplitudes(amplitudes, reg_matrix):\n",
        "        tanh_output = tf.math.tanh(amplitudes)\n",
        "        return tf.linalg.matmul(\n",
        "            tanh_output, reg_matrix\n",
        "        )\n",
        "\n",
        "    \"\"\"\n",
        "        return_physical_amplitudes transforms the input array\n",
        "        self.ctrl_amplitudes into physical control amplitudes\n",
        "    \"\"\"    \n",
        "    def return_physical_amplitudes(self):\n",
        "        basis = self.ansatz_basis_matrix\n",
        "        ctrls = self.ctrl_amplitudes\n",
        "        transformed_Rabi = tf.linalg.matmul(basis[0], ctrls[:, 0:1])\n",
        "        transformed_offset = tf.linalg.matmul(basis[1], ctrls[:, 1:2])\n",
        "        transformed_amplitudes = tf.concat(\n",
        "            [transformed_Rabi, transformed_offset], 1\n",
        "        )\n",
        "        regularized_amplitudes = self.regularize_amplitudes(\n",
        "            transformed_amplitudes, self.reg_matrix\n",
        "        )\n",
        "        return regularized_amplitudes\n",
        "    \"\"\"\n",
        "    return_auxiliary_amplitudes outputs all variables needed for the VL \n",
        "    generator\n",
        "    \"\"\"\n",
        "    def return_auxiliary_amplitudes(self):\n",
        "        amplitudes = self.return_physical_amplitudes()\n",
        "        sgn = tf.math.sign(amplitudes[0, 1])\n",
        "        normalized_amplitudes = tf.linalg.normalize(\n",
        "            amplitudes, ord = 'euclidean', axis = 1\n",
        "        )[0]\n",
        "        drift_amplitudes = tf.ones((self.no_of_steps, 1), dtype = tf.float64)\n",
        "        return tf.concat(\n",
        "            [amplitudes, drift_amplitudes, sgn * normalized_amplitudes], 1\n",
        "        )\n",
        "\n",
        "\n",
        "    \"\"\"\n",
        "        exponentials() computes a vector matrix exponential after multiplying\n",
        "        each self.ctrl_amplitudes row with a the vector of matrices in\n",
        "        self.generators\n",
        "    \"\"\"\n",
        "    def exponentials(self):\n",
        "        all_amplitudes = self.return_auxiliary_amplitudes()\n",
        "        exponents = tf.linalg.tensordot(\n",
        "            tf.cast(all_amplitudes, dtype=tf.complex128),\n",
        "            self.delta_t * self.generators, 1\n",
        "        )\n",
        "        return tf.linalg.expm(exponents)\n",
        "    \n",
        "    \"\"\"\n",
        "        propagate  computes the final propagator by recursively multiplying\n",
        "        each odd element in the list of matrices with each even element --\n",
        "        if the length of the array is not divisible by 2 an extra computation\n",
        "        step is added\n",
        "    \"\"\"\n",
        "    def propagate(self):\n",
        "        step_exps = self.exponentials()\n",
        "        for is_odd in self.contraction_array:\n",
        "            if is_odd:\n",
        "                odd_exp = step_exps[-1, :, :]\n",
        "                step_exps = tf.linalg.matmul(\n",
        "                    step_exps[1::2, :, :], step_exps[0:-1:2, :, :]\n",
        "                )\n",
        "                step_exps = tf.concat([\n",
        "                    step_exps[0:-1, :, :],\n",
        "                    [tf.linalg.matmul(odd_exp, step_exps[-1, :, :])]\n",
        "                ], 0)\n",
        "            else:\n",
        "                step_exps = tf.linalg.matmul(\n",
        "                    step_exps[1::2, :, :], step_exps[0::2, :, :]\n",
        "                )\n",
        "        return tf.squeeze(step_exps)\n",
        "\n",
        "    \"\"\"\n",
        "        metrics computes the final state and adiabaticity metrics\n",
        "    \"\"\"\n",
        "    def metrics(self):\n",
        "        VL_propagator = self.propagate()\n",
        "        propagator = VL_propagator[0:2, 0:2]\n",
        "        ad_integral = VL_propagator[0:2, 2:4]\n",
        "        final_state = tf.linalg.matmul(\n",
        "            propagator, self.initial_state\n",
        "        )\n",
        "        # Infidelity\n",
        "        infidelity = 1 - tf.math.abs(\n",
        "            tf.linalg.matmul(\n",
        "                self.target_state, final_state, adjoint_a = True\n",
        "            )[0, 0]\n",
        "        ) ** 2\n",
        "        # Adiabaticity metric\n",
        "        adiabaticity = 1 - (1 / self.duration) * tf.linalg.matmul(\n",
        "            final_state, \n",
        "            tf.linalg.matmul(\n",
        "                ad_integral, self.initial_state\n",
        "            ),\n",
        "            adjoint_a = True\n",
        "        )[0, 0]\n",
        "        adiabaticity = tf.cast(adiabaticity, dtype = tf.float64)\n",
        "        return infidelity, adiabaticity\n",
        "    \"\"\"\n",
        "        target computes the final cost function\n",
        "    \"\"\"\n",
        "    def target(self):\n",
        "        metrics = self.metrics()\n",
        "        return 0.2 * metrics[0] + 0.8 * metrics[1]\n",
        "\n",
        "class Optimizer:\n",
        "  def __init__(self, ctrl_parameters, optimizer_step, final_step,\n",
        "               steps_to_check, thresholds, min_target_change,\n",
        "               no_of_seeds = 1, goal = 0, seed_min = -1, seed_max = 1):\n",
        "    self.ctrl_parameters = ctrl_parameters\n",
        "    self.ctrls_shape = tf.shape(ctrl_parameters)\n",
        "    self.optimizer_step = optimizer_step\n",
        "    self.final_step = final_step\n",
        "    self.steps_to_check = steps_to_check\n",
        "    self.thresholds = thresholds\n",
        "    self.min_target_change = min_target_change\n",
        "    self.no_of_seeds = no_of_seeds\n",
        "    self.goal = goal\n",
        "    self.seed_min = seed_min\n",
        "    self.seed_max = seed_max\n",
        "    self.optimizer = tf.keras.optimizers.Adam(optimizer_step)\n",
        "\n",
        "  def initialize_seed(self):\n",
        "    self.ctrl_parameters.assign(\n",
        "        tf.random.uniform(\n",
        "            self.ctrls_shape, self.seed_min, self.seed_max, dtype = tf.float64\n",
        "        )\n",
        "    )\n",
        "\n",
        "  @tf.function\n",
        "  def take_step(self):\n",
        "    with tf.GradientTape() as tape:\n",
        "      current_target = propagatorVL.target()\n",
        "    gradients = tape.gradient(current_target, [self.ctrl_parameters])\n",
        "    self.optimizer.apply_gradients(zip(gradients, [self.ctrl_parameters]))\n",
        "    return current_target\n",
        "\n",
        "  def optimize(self):\n",
        "    best_ctrls_so_far = None\n",
        "    best_target_so_far = None\n",
        "    for seed in range(self.no_of_seeds):\n",
        "      self.initialize_seed()\n",
        "      previous_target = 1\n",
        "      for step in range(self.final_step):\n",
        "        current_target = self.take_step()\n",
        "        clear_output(wait=True)\n",
        "        print('step %2d: target=%2.5f' %\n",
        "              (step + 1, current_target))\n",
        "        if current_target <= self.goal:\n",
        "          print('Goal reached!')\n",
        "          best_ctrls_so_far = self.ctrl_parameters\n",
        "          best_target_so_far = current_target\n",
        "          return\n",
        "        elif previous_target - current_target <= min_target_change:\n",
        "          print('Change in target is smaller than the given minimum.')\n",
        "          break\n",
        "        elif \n",
        "        previous_target = current_target\n",
        "\n",
        "\n",
        "\n",
        "propagatorVL = PropagatorVL(10, 1000, 0.005)\n",
        "optimization = Optimizer(propagatorVL.ctrl_amplitudes, 0.01, 2000, 0, 0, 0, 0.1)\n",
        "\n",
        "optimization.optimize()"
      ],
      "execution_count": 0,
      "outputs": [
        {
          "output_type": "stream",
          "text": [
            "step  8: target=0.08814\n",
            "Goal reached!\n"
          ],
          "name": "stdout"
        }
      ]
    },
    {
      "cell_type": "code",
      "metadata": {
        "id": "1tbhwfMGHH4r",
        "colab_type": "code",
        "colab": {}
      },
      "source": [
        "optimizer = tf.keras.optimizers.Adam(0.01)\n",
        "\n",
        "propagatorVL.ctrl_amplitudes.assign(\n",
        "    tf.random.uniform([10, 2], -1, 1, dtype=tf.float64)\n",
        ")\n",
        "\n",
        "@tf.function\n",
        "def optimization_step():\n",
        "    with tf.GradientTape() as tape:\n",
        "        current_target = propagatorVL.target()\n",
        "    gradients = tape.gradient(current_target, [propagatorVL.ctrl_amplitudes])\n",
        "    optimizer.apply_gradients(zip(gradients, [propagatorVL.ctrl_amplitudes]))\n",
        "    return current_target\n",
        "\n",
        "steps = range(2000)\n",
        "for step in steps:\n",
        "    current_target = optimization_step()\n",
        "    print('step %2d: target=%2.5f' %\n",
        "          (step, current_target))\n",
        "    \n",
        "final_pulse = propagatorVL.return_physical_amplitudes().numpy()"
      ],
      "execution_count": 0,
      "outputs": []
    },
    {
      "cell_type": "code",
      "metadata": {
        "id": "l1G1_KcFmKYN",
        "colab_type": "code",
        "outputId": "4d716b39-e923-4a19-8b11-c0ef2f3d184a",
        "colab": {
          "base_uri": "https://localhost:8080/",
          "height": 882
        }
      },
      "source": [
        "fig, (Rabi_fig, offset_fig) = plt.subplots(2, 1, figsize=(10, 15))\n",
        "Rabi_fig.plot(final_pulse[:,0])\n",
        "offset_fig.plot(final_pulse[:,1])"
      ],
      "execution_count": 0,
      "outputs": [
        {
          "output_type": "execute_result",
          "data": {
            "text/plain": [
              "[<matplotlib.lines.Line2D at 0x7f0970932dd8>]"
            ]
          },
          "metadata": {
            "tags": []
          },
          "execution_count": 24
        },
        {
          "output_type": "display_data",
          "data": {
            "image/png": "[encoded data removed]",
            "text/plain": [
              "<Figure size 720x1080 with 2 Axes>"
            ]
          },
          "metadata": {
            "tags": []
          }
        }
      ]
    },
    {
      "cell_type": "code",
      "metadata": {
        "id": "loKq1RWCPHV0",
        "colab_type": "code",
        "outputId": "a702c92d-18a6-4075-c9c2-c61c34b9b21f",
        "colab": {
          "base_uri": "https://localhost:8080/",
          "height": 50
        }
      },
      "source": [
        "# Final state\n",
        "print(propagatorVL.metrics()[0].numpy())\n",
        "# Adiabaticity\n",
        "print(propagatorVL.metrics()[1].numpy())"
      ],
      "execution_count": 0,
      "outputs": [
        {
          "output_type": "stream",
          "text": [
            "2.9680893919636908e-05\n",
            "0.00165271375195708\n"
          ],
          "name": "stdout"
        }
      ]
    },
    {
      "cell_type": "code",
      "metadata": {
        "id": "Ptzs8d2zwrVY",
        "colab_type": "code",
        "outputId": "6dfd164b-48e0-4cef-9f0c-75282b92f190",
        "colab": {
          "base_uri": "https://localhost:8080/",
          "height": 282
        }
      },
      "source": [
        "angles = []\n",
        "exps = propagatorVL.exponentials()\n",
        "state = propagatorVL.initial_state\n",
        "for i in range(propagatorVL.no_of_steps):\n",
        "  state = tf.linalg.matmul(\n",
        "      exps[i, 0:2, 0:2], state\n",
        "  )\n",
        "\n",
        "  sigma_x = tf.linalg.matmul(\n",
        "      state, tf.linalg.matmul(\n",
        "          propagatorVL.x, state\n",
        "      ),\n",
        "      adjoint_a = True\n",
        "  )\n",
        "  sigma_y = tf.linalg.matmul(\n",
        "      state, tf.linalg.matmul(\n",
        "          propagatorVL.y, state\n",
        "      ),\n",
        "      adjoint_a = True\n",
        "  )\n",
        "  sigma_z = tf.linalg.matmul(\n",
        "      state, tf.linalg.matmul(\n",
        "          propagatorVL.z, state\n",
        "      ),\n",
        "      adjoint_a = True\n",
        "  )\n",
        "  sigma = np.ndarray.flatten(\n",
        "      tf.concat(\n",
        "          [sigma_x, sigma_y, sigma_z], 0\n",
        "      ).numpy()\n",
        "  )\n",
        "\n",
        "  eff_field = np.array([final_pulse[i, 0], 0, final_pulse[i, 1]])\n",
        "\n",
        "  angles.append(\n",
        "      180 - (180 / np.pi) * np.arccos(\n",
        "          np.dot(eff_field, np.real(sigma))\n",
        "          / np.linalg.norm(eff_field)\n",
        "          / np.linalg.norm(sigma)\n",
        "      )\n",
        "  )\n",
        "\n",
        "fig, ax = plt.subplots()\n",
        "ax.plot(angles)\n"
      ],
      "execution_count": 0,
      "outputs": [
        {
          "output_type": "execute_result",
          "data": {
            "text/plain": [
              "[<matplotlib.lines.Line2D at 0x7f09709126d8>]"
            ]
          },
          "metadata": {
            "tags": []
          },
          "execution_count": 27
        },
        {
          "output_type": "display_data",
          "data": {
            "image/png": "[encoded data removed]",
            "text/plain": [
              "<Figure size 432x288 with 1 Axes>"
            ]
          },
          "metadata": {
            "tags": []
          }
        }
      ]
    },
    {
      "cell_type": "code",
      "metadata": {
        "id": "flmLKE8P3ki8",
        "colab_type": "code",
        "colab": {}
      },
      "source": [
        ""
      ],
      "execution_count": 0,
      "outputs": []
    }
  ]
}